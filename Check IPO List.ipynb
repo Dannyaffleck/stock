{
 "cells": [
  {
   "cell_type": "markdown",
   "metadata": {},
   "source": [
    "# Check IPOs \n",
    "\n",
    "Check a list of IPOs (or any list of symbols) against wood's algorigthm.\n",
    "\n",
    "This will calculate the last 6 months, 3 months, 1 month and 2 weeks average returns on the stock.\n",
    "\n",
    "I'm looking for down for 6 and 3 months and up for 1 to two weeks."
   ]
  },
  {
   "cell_type": "code",
   "execution_count": null,
   "metadata": {
    "collapsed": true
   },
   "outputs": [],
   "source": [
    "import csv\n",
    "import datetime\n",
    "import pandas as pd\n",
    "import yfinance as yf\n",
    "\n",
    "\n",
    "#some constants\n",
    "days_in_year = 365\n",
    "six_months_days = int(days_in_year / 2)\n",
    "thirty_day = 30\n",
    "two_weeks_day = 14"
   ]
  },
  {
   "cell_type": "code",
   "execution_count": null,
   "metadata": {
    "collapsed": true
   },
   "outputs": [],
   "source": [
    "# open the list of ipo symbols\n",
    "filename = \"202008_yearipos.csv\"\n",
    "ipos = []\n",
    "with open(filename, newline='') as csvfile:\n",
    "    reader = csv.DictReader(csvfile)\n",
    "    for row in reader:\n",
    "        ipos.append(row)"
   ]
  },
  {
   "cell_type": "code",
   "execution_count": null,
   "metadata": {},
   "outputs": [],
   "source": [
    "# just use the last one as a test if needed. Otherwise keep it commented out\n",
    "#ipos = [ipos[-1]]"
   ]
  },
  {
   "cell_type": "code",
   "execution_count": null,
   "metadata": {},
   "outputs": [],
   "source": [
    "ipos"
   ]
  },
  {
   "cell_type": "code",
   "execution_count": null,
   "metadata": {},
   "outputs": [],
   "source": [
    "# for each symbol, get the history, calculate the first six months of perf, the last six months, 30 and 14 days\n",
    "ipo_performance = []\n",
    "for stock in ipos:\n",
    "    sym = stock['symbol']\n",
    "    print(f\"checking sym: {sym}\")\n",
    "    info = yf.Ticker(sym)\n",
    "    df_history = info.history(period=\"max\")\n",
    "    \n",
    "    first_trade = df_history.index[0]\n",
    "    open_price = df_history.iloc[0]['Open']\n",
    "    \n",
    "    # prepend the opening prices as the previous day's close...\n",
    "    all_prices = df_history['Close']\n",
    "    all_prices = pd.concat([pd.Series([open_price]),all_prices])\n",
    "\n",
    "    first_six = all_prices.head(six_months_days)\n",
    "    last_six = all_prices.tail(six_months_days)\n",
    "    \n",
    "    start_price = first_six.iloc[0]\n",
    "    end_price = first_six.iloc[-1]\n",
    "    f6_gain_loss = (end_price - start_price) / start_price\n",
    "    \n",
    "    start_price = last_six.iloc[0]\n",
    "    end_price = last_six.iloc[-1]\n",
    "    l6_gain_loss = (end_price - start_price) / start_price\n",
    "    \n",
    "    last_30 = all_prices.tail(thirty_day)\n",
    "    start_price = last_30.iloc[0]\n",
    "    end_price = last_30.iloc[-1]\n",
    "    l30_gain_loss = (end_price - start_price) / start_price\n",
    "    \n",
    "    last_14 = all_prices.tail(thirty_day)\n",
    "    start_price = last_30.iloc[0]\n",
    "    end_price = last_30.iloc[-1]\n",
    "    l14_gain_loss = (end_price - start_price) / start_price\n",
    "    \n",
    "    ipo_performance.append({\"symbol\":sym,\n",
    "                            \"name\":stock['name'],\n",
    "                            \"ipo_date\":first_trade,\n",
    "                            \"open_price\":open_price, \n",
    "                            \"First Six Perf\":f6_gain_loss,\n",
    "                            \"Last Six Perf\":l6_gain_loss,\n",
    "                            \"Last 30 Perf\": l30_gain_loss,\n",
    "                            \"Last 14 Perf\": l14_gain_loss})\n",
    "\n",
    "\n"
   ]
  },
  {
   "cell_type": "code",
   "execution_count": null,
   "metadata": {},
   "outputs": [],
   "source": [
    "# need a year/month string for the file name output\n",
    "now = datetime.date.today()\n",
    "filename = \"{}_ipo_perf.csv\".format(now.strftime(\"%Y%m\"))\n",
    "\n",
    "# save as a csv \n",
    "with open(filename, 'w',newline=\"\") as csvfile:\n",
    "    writer = csv.DictWriter(csvfile, fieldnames=ipo_performance[0].keys())\n",
    "    writer.writeheader()\n",
    "    for data in ipo_performance:\n",
    "        writer.writerow(data)"
   ]
  },
  {
   "cell_type": "markdown",
   "metadata": {},
   "source": [
    "# scratch pad below this"
   ]
  },
  {
   "cell_type": "code",
   "execution_count": null,
   "metadata": {},
   "outputs": [],
   "source": [
    "df_history = info.history(period=\"max\")"
   ]
  },
  {
   "cell_type": "code",
   "execution_count": null,
   "metadata": {},
   "outputs": [],
   "source": [
    "all_prices = df_history['Close']\n",
    "# prepend the opening price as the previous \"close\" price\n",
    "all_prices = pd.concat([pd.Series([first_price]),all_prices])\n",
    "all_prices"
   ]
  },
  {
   "cell_type": "code",
   "execution_count": null,
   "metadata": {},
   "outputs": [],
   "source": [
    "# calculate the difference between the starting price and ending price\n",
    "start_price = first_six.iloc[0]\n",
    "end_price = first_six.iloc[-1]\n",
    "gain_loss = (end_price - start_price) / start_price\n",
    "gain_loss"
   ]
  },
  {
   "cell_type": "code",
   "execution_count": null,
   "metadata": {},
   "outputs": [],
   "source": [
    "type(df_history)"
   ]
  },
  {
   "cell_type": "code",
   "execution_count": null,
   "metadata": {},
   "outputs": [],
   "source": [
    "df_history"
   ]
  },
  {
   "cell_type": "code",
   "execution_count": null,
   "metadata": {},
   "outputs": [],
   "source": [
    "df_history.iloc[0]"
   ]
  },
  {
   "cell_type": "code",
   "execution_count": null,
   "metadata": {},
   "outputs": [],
   "source": [
    "type(df_history.iloc[0])"
   ]
  },
  {
   "cell_type": "code",
   "execution_count": null,
   "metadata": {},
   "outputs": [],
   "source": [
    "df_history.iloc[0].index"
   ]
  },
  {
   "cell_type": "code",
   "execution_count": null,
   "metadata": {},
   "outputs": [],
   "source": [
    "df_history.index[0]"
   ]
  },
  {
   "cell_type": "code",
   "execution_count": null,
   "metadata": {
    "collapsed": true
   },
   "outputs": [],
   "source": []
  }
 ],
 "metadata": {
  "kernelspec": {
   "display_name": "Python 3",
   "language": "python",
   "name": "python3"
  },
  "language_info": {
   "codemirror_mode": {
    "name": "ipython",
    "version": 3
   },
   "file_extension": ".py",
   "mimetype": "text/x-python",
   "name": "python",
   "nbconvert_exporter": "python",
   "pygments_lexer": "ipython3",
   "version": "3.6.3"
  }
 },
 "nbformat": 4,
 "nbformat_minor": 2
}
