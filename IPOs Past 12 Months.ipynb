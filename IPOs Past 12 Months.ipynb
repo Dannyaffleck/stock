{
 "cells": [
  {
   "cell_type": "markdown",
   "metadata": {},
   "source": [
    "# Get list of IPOs for past 12 months\n",
    "Get the list of all the IPO stocks for the past 12 months\n",
    "\n",
    "All I really need are the symbols. Once I have them, save them to a csv file which will be used in another script for analysis\n",
    "\n",
    "I found a website that maintains a list for the past 12 months. I couldn't call it with an API to get it in a nice JSON format so had to scrape it in HTML and massage the HTML to get the right data. If they change the format this will need to be reworked, but this is a good starting point.\n",
    "\n",
    "The output is a simple csv file with the list of symbols."
   ]
  },
  {
   "cell_type": "code",
   "execution_count": null,
   "metadata": {
    "collapsed": true
   },
   "outputs": [],
   "source": [
    "import csv,datetime,requests\n",
    "from lxml import html,etree\n"
   ]
  },
  {
   "cell_type": "code",
   "execution_count": null,
   "metadata": {},
   "outputs": [],
   "source": [
    "# found a website that lists all IPOs for past 12 months. Scrape it to html then fight to get the data out. Ouch\n",
    "headers = {'Content-type': 'application/json', 'Accept': 'application/json'}\n",
    "\n",
    "response = requests.get('https://www.iposcoop.com/last-12-months/',\n",
    "                         headers=headers)\n",
    "print(\"Status code: \", response.status_code)\n",
    "\n",
    "    "
   ]
  },
  {
   "cell_type": "code",
   "execution_count": null,
   "metadata": {},
   "outputs": [],
   "source": [
    "# turn the html into an xml tree\n",
    "tree = html.fromstring(response.content)\n"
   ]
  },
  {
   "cell_type": "code",
   "execution_count": null,
   "metadata": {},
   "outputs": [],
   "source": [
    "# what does it look like in xml\n",
    "print(etree.tostring(tree,pretty_print=True).decode('utf-8'))"
   ]
  },
  {
   "cell_type": "code",
   "execution_count": null,
   "metadata": {},
   "outputs": [],
   "source": [
    "# the content I'm looking for is in the class responsive-table/table/tbody and all the tr tags\n",
    "mc = tree.xpath('//*[@class=\"responsive-table\"]/table/tbody/tr')\n",
    "mc"
   ]
  },
  {
   "cell_type": "code",
   "execution_count": null,
   "metadata": {},
   "outputs": [],
   "source": [
    "# what doe all those tr tags look like?\n",
    "print(etree.tostring(mc[0],pretty_print=True).decode('utf-8'))"
   ]
  },
  {
   "cell_type": "code",
   "execution_count": null,
   "metadata": {},
   "outputs": [],
   "source": [
    "# dig through them an look at the names\n",
    "for tr in mc:\n",
    "    print(tr[0][0].text)"
   ]
  },
  {
   "cell_type": "code",
   "execution_count": null,
   "metadata": {},
   "outputs": [],
   "source": [
    "# dig through and get the symbols - this is what I really want\n",
    "for idx,tr in enumerate(mc):\n",
    "    print(\"{}  {}\".format(idx,tr[1][0].text))\n"
   ]
  },
  {
   "cell_type": "code",
   "execution_count": null,
   "metadata": {},
   "outputs": [],
   "source": [
    "# turn those into a simple python list\n",
    "syms = [a.text for tr in mc for a in tr[1]] \n",
    "syms"
   ]
  },
  {
   "cell_type": "code",
   "execution_count": null,
   "metadata": {
    "scrolled": false
   },
   "outputs": [],
   "source": [
    "# want it as a name and symbol list for csv output\n",
    "name_sym = [{\"symbol\":a.text, \"name\":b.text} for tr in mc for a in tr[1] for b in tr[0]]\n",
    "name_sym"
   ]
  },
  {
   "cell_type": "code",
   "execution_count": null,
   "metadata": {},
   "outputs": [],
   "source": [
    "# need a year/month string for the file name output\n",
    "now = datetime.date.today()\n",
    "filename = \"{}_yearipos.csv\".format(now.strftime(\"%Y%m\"))\n",
    "filename"
   ]
  },
  {
   "cell_type": "code",
   "execution_count": 158,
   "metadata": {},
   "outputs": [],
   "source": [
    "# save as a csv for now\n",
    "with open(filename, 'w') as csvfile:\n",
    "    writer = csv.DictWriter(csvfile, lineterminator=\"\\n\", fieldnames=name_sym[0].keys())\n",
    "    writer.writeheader()\n",
    "    for data in name_sym:\n",
    "        writer.writerow(data)"
   ]
  },
  {
   "cell_type": "code",
   "execution_count": null,
   "metadata": {
    "collapsed": true
   },
   "outputs": [],
   "source": []
  }
 ],
 "metadata": {
  "kernelspec": {
   "display_name": "Python 3",
   "language": "python",
   "name": "python3"
  },
  "language_info": {
   "codemirror_mode": {
    "name": "ipython",
    "version": 3
   },
   "file_extension": ".py",
   "mimetype": "text/x-python",
   "name": "python",
   "nbconvert_exporter": "python",
   "pygments_lexer": "ipython3",
   "version": "3.6.3"
  }
 },
 "nbformat": 4,
 "nbformat_minor": 2
}
