{
 "cells": [
  {
   "cell_type": "code",
   "execution_count": null,
   "metadata": {},
   "outputs": [],
   "source": [
    "import yfinance as yf\n",
    "import pandas as pd\n",
    "import numpy as np\n",
    "from scipy import stats\n",
    "import time\n",
    "\n"
   ]
  },
  {
   "cell_type": "code",
   "execution_count": null,
   "metadata": {
    "collapsed": true
   },
   "outputs": [],
   "source": [
    "stock_list = [\"msft\",\"work\",\"ftec\"]\n",
    "#msft = yf.Ticker(\"MSFT\")\n",
    "#print(msft)"
   ]
  },
  {
   "cell_type": "code",
   "execution_count": null,
   "metadata": {
    "collapsed": true
   },
   "outputs": [],
   "source": [
    "histories = {}\n",
    "for s in stock_list:\n",
    "    histories[s] = yf.Ticker(s)"
   ]
  },
  {
   "cell_type": "code",
   "execution_count": null,
   "metadata": {},
   "outputs": [],
   "source": [
    "histories[\"msft\"].info"
   ]
  },
  {
   "cell_type": "code",
   "execution_count": null,
   "metadata": {},
   "outputs": [],
   "source": [
    "histories['ftec'].history(period=\"max\")"
   ]
  },
  {
   "cell_type": "code",
   "execution_count": null,
   "metadata": {
    "collapsed": true
   },
   "outputs": [],
   "source": [
    "h = histories['ftec'].history(period=\"max\")"
   ]
  },
  {
   "cell_type": "code",
   "execution_count": null,
   "metadata": {},
   "outputs": [],
   "source": [
    "h"
   ]
  },
  {
   "cell_type": "code",
   "execution_count": null,
   "metadata": {},
   "outputs": [],
   "source": [
    "dfx = h['Close']\n",
    "dfx"
   ]
  },
  {
   "cell_type": "code",
   "execution_count": null,
   "metadata": {},
   "outputs": [],
   "source": [
    "h['Close'].index"
   ]
  },
  {
   "cell_type": "code",
   "execution_count": null,
   "metadata": {},
   "outputs": [],
   "source": [
    "h['Close'].values"
   ]
  },
  {
   "cell_type": "code",
   "execution_count": null,
   "metadata": {},
   "outputs": [],
   "source": [
    "len(h['Close'])"
   ]
  },
  {
   "cell_type": "code",
   "execution_count": null,
   "metadata": {},
   "outputs": [],
   "source": [
    "h['Close'].values[0:4]"
   ]
  },
  {
   "cell_type": "code",
   "execution_count": null,
   "metadata": {},
   "outputs": [],
   "source": [
    "def run_danny(npx,npy):\n",
    "    i = 4\n",
    "    while i<len(npx):\n",
    "        da_y =  np.array(npy[i-4:i])\n",
    "\n",
    "        da_x =  np.array([idx for idx,val in enumerate(npy[i-4:i])])\n",
    "\n",
    "        print(f\"x:{da_x}\")\n",
    "        print(f\"y:{da_y}\")\n",
    "        slope, intercept, r_value, p_value, std_err = stats.linregress(da_x,da_y)\n",
    "\n",
    "        print(f\"slope at {i} {slope}\")\n",
    "        i += 1"
   ]
  },
  {
   "cell_type": "code",
   "execution_count": null,
   "metadata": {},
   "outputs": [],
   "source": [
    "run_danny(h['Close'].index,h['Close'].values)"
   ]
  },
  {
   "cell_type": "code",
   "execution_count": null,
   "metadata": {
    "collapsed": true
   },
   "outputs": [],
   "source": [
    "def danny2(datax,datay):\n",
    "    da_y = np.array(datay)\n",
    "    da_x = np.array(datax)\n",
    "\n",
    "    slope, intercept, r_value, p_value, std_err = stats.linregress(da_x,da_y)\n",
    "\n",
    "    print(f\"slope {slope}\")\n"
   ]
  },
  {
   "cell_type": "code",
   "execution_count": null,
   "metadata": {},
   "outputs": [],
   "source": [
    "last_vals = []\n",
    "for i in range(10):\n",
    "    print(i)\n",
    "    time.sleep(5)\n",
    "    datay=[0,1,2,3]\n",
    "    cur = yf.Ticker('ftec')\n",
    "    ask = cur.info['ask']\n",
    "    #ask=i+1\n",
    "    if ask>0:\n",
    "        last_vals.append(ask)\n",
    "        if len(last_vals)>4:\n",
    "            last_vals=last_vals[1:]\n",
    "            danny2(last_vals,datay)\n",
    "            print(last_vals)"
   ]
  },
  {
   "cell_type": "code",
   "execution_count": null,
   "metadata": {
    "collapsed": true
   },
   "outputs": [],
   "source": []
  }
 ],
 "metadata": {
  "kernelspec": {
   "display_name": "Python 3",
   "language": "python",
   "name": "python3"
  },
  "language_info": {
   "codemirror_mode": {
    "name": "ipython",
    "version": 3
   },
   "file_extension": ".py",
   "mimetype": "text/x-python",
   "name": "python",
   "nbconvert_exporter": "python",
   "pygments_lexer": "ipython3",
   "version": "3.6.3"
  }
 },
 "nbformat": 4,
 "nbformat_minor": 2
}
